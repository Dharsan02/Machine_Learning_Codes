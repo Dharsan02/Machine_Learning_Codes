{
  "cells": [
    {
      "cell_type": "markdown",
      "metadata": {
        "id": "nnrWf3PCEzXL"
      },
      "source": [
        "## Set up TensorFlow\n",
        "\n",
        "Import TensorFlow into your program to get started:"
      ]
    },
    {
      "cell_type": "code",
      "execution_count": null,
      "metadata": {
        "id": "0trJmd6DjqBZ",
        "colab": {
          "base_uri": "https://localhost:8080/"
        },
        "outputId": "69845b0c-ab14-4dbc-ceb7-55878ce8b51d"
      },
      "outputs": [
        {
          "output_type": "stream",
          "name": "stdout",
          "text": [
            "TensorFlow version: 2.8.2\n"
          ]
        }
      ],
      "source": [
        "import numpy\n",
        "import tensorflow as tf\n",
        "from keras.models import Sequential\n",
        "from keras.layers import Activation, Dense, Reshape, Flatten\n",
        "from keras import initializers\n",
        "from keras import regularizers\n",
        "from keras import constraints\n",
        "print(\"TensorFlow version:\", tf.__version__)"
      ]
    },
    {
      "cell_type": "code",
      "execution_count": null,
      "metadata": {
        "id": "7FP5258xjs-v",
        "colab": {
          "base_uri": "https://localhost:8080/"
        },
        "outputId": "d62aabfb-2cbf-4c1b-cf67-0d3cf238f21e"
      },
      "outputs": [
        {
          "output_type": "stream",
          "name": "stdout",
          "text": [
            "Downloading data from https://storage.googleapis.com/tensorflow/tf-keras-datasets/mnist.npz\n",
            "11493376/11490434 [==============================] - 0s 0us/step\n",
            "11501568/11490434 [==============================] - 0s 0us/step\n"
          ]
        }
      ],
      "source": [
        "mnist = tf.keras.datasets.mnist\n",
        "\n",
        "(x_train, y_train), (x_test, y_test) = mnist.load_data()\n",
        "x_train, x_test = x_train / 255.0, x_test / 255.0"
      ]
    },
    {
      "cell_type": "markdown",
      "source": [
        "Activations\n",
        "\n",
        "In machine learning, activation function is a special function used to find whether a specific neuron is activated or not. Basically, the activation function does a nonlinear transformation of the input data and thus enable the neurons to learn better. Output of a neuron depends on the activation function.\n"
      ],
      "metadata": {
        "id": "K6imereWmHB3"
      }
    },
    {
      "cell_type": "code",
      "source": [
        "#creates a new model using Sequential API.\n",
        "model = Sequential()\n",
        "# creates a new Dense layer and add it into the model.\n",
        "# Dense is an entry level layer provided by Keras,\n",
        "# which accepts the number of neurons or units (32) as its required parameter.\n",
        "# If the layer is first layer, then we need to provide Input Shape, (16,) as well.\n",
        "# Otherwise, the output of the previous layer will be used as input of the next layer.\n",
        "\n",
        "# input_shape represent the shape of input data.\n",
        "# kernel_initializer represent initializer to be used.\n",
        "#    he_uniform function is set as value.\n",
        "# kernel_regularizer represent regularizer to be used.\n",
        "#    None is set as value.\n",
        "# kernel_constraint represent constraint to be used.\n",
        "#    MaxNorm function is set as value.\n",
        "# activation represent activation to be used.\n",
        "# relu function is set as value.\n",
        "\n",
        "model.add(Dense(32, input_shape=(16,), kernel_initializer = 'he_uniform',\n",
        "   kernel_regularizer = None, kernel_constraint = 'MaxNorm', activation = 'relu'))\n",
        "model.add(Dense(16, activation = 'relu'))\n",
        "#creates final Dense layer with 8 units.\n",
        "model.add(Dense(8))"
      ],
      "metadata": {
        "id": "foZUBkmIY0Zs"
      },
      "execution_count": null,
      "outputs": []
    },
    {
      "cell_type": "code",
      "source": [
        "#Generates 0 for all inputs\n",
        "\n",
        "my_init = initializers.Zeros()\n",
        "model = Sequential()\n",
        "model.add(Dense(512, activation = 'relu', input_shape = (784,),\n",
        "   kernel_initializer = my_init))\n"
      ],
      "metadata": {
        "id": "XUBrRRNHbTwG"
      },
      "execution_count": null,
      "outputs": []
    },
    {
      "cell_type": "code",
      "source": [
        "#Generates 1 for all inputs\n",
        "\n",
        "my_init = initializers.Ones()\n",
        "model.add(Dense(512, activation = 'relu', input_shape = (784,),\n",
        "   kernel_initializer = my_init))"
      ],
      "metadata": {
        "id": "A27aheF-bxmo"
      },
      "execution_count": null,
      "outputs": []
    },
    {
      "cell_type": "code",
      "source": [
        "#Generate value using uniform distribution of input data\n",
        "\n",
        "my_init = initializers.RandomUniform(minval = -0.05, maxval = 0.05, seed = None)\n",
        "model.add(Dense(512, activation = 'relu', input_shape = (784,),\n",
        "   kernel_initializer = my_init))\n",
        "\n",
        "# minval represent the lower bound of the random values to generate\n",
        "# maxval represent the upper bound of the random values to generate"
      ],
      "metadata": {
        "id": "iR9GfFd4dEfb"
      },
      "execution_count": null,
      "outputs": []
    },
    {
      "cell_type": "code",
      "source": [
        "#Generates value based on the input shape and output shape of the layer along with the specified scale.\n",
        "\n",
        "my_init = initializers.VarianceScaling(\n",
        "   scale = 1.0, mode = 'fan_in', distribution = 'normal', seed = None)\n",
        "model.add(Dense(512, activation = 'relu', input_shape = (784,),\n",
        "   kernel_initializer = my_init))\n",
        "\n",
        "# fan_in represents the number of input units\n",
        "# fan_out represents the number of output units\n",
        "# scale represent the scaling factor\n",
        "# mode represent any one of fan_in, fan_out and fan_avg values\n",
        "# distribution represent either of normal or uniform"
      ],
      "metadata": {
        "id": "GlStHjO_ef3V"
      },
      "execution_count": null,
      "outputs": []
    },
    {
      "cell_type": "code",
      "source": [
        "#Generates identity matrix\n",
        "\n",
        "my_init = initializers.Identity(gain = 1.0)\n",
        "model.add(Dense(512, activation = 'relu', input_shape = (784,), kernel_initializer = my_init))"
      ],
      "metadata": {
        "id": "MSM0NTDliPzZ"
      },
      "execution_count": null,
      "outputs": []
    },
    {
      "cell_type": "code",
      "source": [
        "#Constraints weights to be unit form\n",
        "\n",
        "my_constrain = constraints.UnitNorm(axis = 0)\n",
        "model = Sequential()\n",
        "model.add(Dense(512, activation = 'relu', input_shape = (784,),\n",
        "   kernel_constraint = my_constrain))"
      ],
      "metadata": {
        "id": "ZdO7nan3e9uU"
      },
      "execution_count": null,
      "outputs": []
    },
    {
      "cell_type": "code",
      "source": [
        "#Constraints weight to norm less than or equals to the given value.\n",
        "\n",
        "my_constrain = constraints.MaxNorm(max_value = 2, axis = 0)\n",
        "model = Sequential()\n",
        "model.add(Dense(512, activation = 'relu', input_shape = (784,),\n",
        "   kernel_constraint = my_constrain))"
      ],
      "metadata": {
        "id": "arI48YF-k-sW"
      },
      "execution_count": null,
      "outputs": []
    },
    {
      "cell_type": "code",
      "source": [
        "# Applying Sigmoid function\n",
        "\n",
        "model = Sequential()\n",
        "model.add(Dense(512, activation = 'sigmoid', input_shape = (784,)))"
      ],
      "metadata": {
        "id": "KHQa737ol1uk"
      },
      "execution_count": null,
      "outputs": []
    },
    {
      "cell_type": "code",
      "source": [
        "#Applies Rectified Linear Unit.\n",
        "\n",
        "model = Sequential()\n",
        "model.add(Dense(512, activation = 'relu', input_shape = (784,)))"
      ],
      "metadata": {
        "id": "yotEfAHCqt7f"
      },
      "execution_count": null,
      "outputs": []
    },
    {
      "cell_type": "code",
      "source": [
        "#Applies Scaled exponential linear unit.\n",
        "\n",
        "model = Sequential()\n",
        "model.add(Dense(512, activation = 'selu', input_shape = (784,)))"
      ],
      "metadata": {
        "id": "gQ5ZmkWpq21p"
      },
      "execution_count": null,
      "outputs": []
    },
    {
      "cell_type": "code",
      "source": [
        "#Reshape\n",
        "\n",
        "model = Sequential()\n",
        "layer_1 = Dense(16, input_shape = (8,8))\n",
        "model.add(layer_1)\n",
        "layer_2 = Reshape((16, 8))\n",
        "model.add(layer_2)\n"
      ],
      "metadata": {
        "id": "9NtJz55_rS5m"
      },
      "execution_count": null,
      "outputs": []
    },
    {
      "cell_type": "code",
      "source": [
        "#Flattern\n",
        "\n",
        "model = Sequential()\n",
        "layer_1 = Dense(16, input_shape=(8,8))\n",
        "model.add(layer_1)\n",
        "layer_2 = Flatten()\n",
        "model.add(layer_2)"
      ],
      "metadata": {
        "id": "zKySBqPYrnM3"
      },
      "execution_count": null,
      "outputs": []
    },
    {
      "cell_type": "markdown",
      "metadata": {
        "id": "BPZ68wASog_I"
      },
      "source": [
        "## Build a machine learning model\n",
        "\n",
        "Build a `tf.keras.Sequential` model by stacking layers."
      ]
    },
    {
      "cell_type": "markdown",
      "metadata": {
        "id": "l2hiez2eIUz8"
      },
      "source": [
        "For each example, the model returns a vector of [logits](https://developers.google.com/machine-learning/glossary#logits) or [log-odds](https://developers.google.com/machine-learning/glossary#log-odds) scores, one for each class."
      ]
    },
    {
      "cell_type": "code",
      "execution_count": null,
      "metadata": {
        "id": "OeOrNdnkEEcR",
        "colab": {
          "base_uri": "https://localhost:8080/"
        },
        "outputId": "1fcdb42c-88c7-4001-e461-cb7d94bbc3f1"
      },
      "outputs": [
        {
          "output_type": "execute_result",
          "data": {
            "text/plain": [
              "array([[-0.10342179, -0.00837833, -0.8590822 ,  0.5979148 ,  0.29961196,\n",
              "         0.9529247 , -0.26174614, -0.94969255, -0.47442734, -0.31852612]],\n",
              "      dtype=float32)"
            ]
          },
          "metadata": {},
          "execution_count": 16
        }
      ],
      "source": [
        "model = tf.keras.models.Sequential([\n",
        "  tf.keras.layers.Flatten(input_shape=(28, 28)),\n",
        "  tf.keras.layers.Dense(128, activation='relu'),\n",
        "  tf.keras.layers.Dropout(0.2),\n",
        "  tf.keras.layers.Dense(10)\n",
        "])\n",
        "predictions = model(x_train[:1]).numpy()\n",
        "predictions"
      ]
    },
    {
      "cell_type": "markdown",
      "metadata": {
        "id": "tgjhDQGcIniO"
      },
      "source": [
        "The `tf.nn.softmax` function converts these logits to *probabilities* for each class:"
      ]
    },
    {
      "cell_type": "code",
      "execution_count": null,
      "metadata": {
        "id": "zWSRnQ0WI5eq",
        "colab": {
          "base_uri": "https://localhost:8080/"
        },
        "outputId": "5b67033c-b8f7-4ff5-d7bc-098b44c6d28a"
      },
      "outputs": [
        {
          "output_type": "execute_result",
          "data": {
            "text/plain": [
              "array([[0.08519964, 0.09369461, 0.0400183 , 0.1718005 , 0.12748912,\n",
              "        0.24502096, 0.0727241 , 0.03655166, 0.05879117, 0.06870987]],\n",
              "      dtype=float32)"
            ]
          },
          "metadata": {},
          "execution_count": 17
        }
      ],
      "source": [
        "tf.nn.softmax(predictions).numpy()"
      ]
    },
    {
      "cell_type": "markdown",
      "metadata": {
        "id": "he5u_okAYS4a"
      },
      "source": [
        "Note: It is possible to bake the `tf.nn.softmax` function into the activation function for the last layer of the network. While this can make the model output more directly interpretable, this approach is discouraged as it's impossible to provide an exact and numerically stable loss calculation for all models when using a softmax output."
      ]
    },
    {
      "cell_type": "markdown",
      "metadata": {
        "id": "hQyugpgRIyrA"
      },
      "source": [
        "Define a loss function for training using `losses.SparseCategoricalCrossentropy`, which takes a vector of logits and a `True` index and returns a scalar loss for each example."
      ]
    },
    {
      "cell_type": "code",
      "execution_count": null,
      "metadata": {
        "id": "RSkzdv8MD0tT"
      },
      "outputs": [],
      "source": [
        "loss_fn = tf.keras.losses.SparseCategoricalCrossentropy(from_logits=True)"
      ]
    },
    {
      "cell_type": "markdown",
      "metadata": {
        "id": "SfR4MsSDU880"
      },
      "source": [
        "This loss is equal to the negative log probability of the true class: The loss is zero if the model is sure of the correct class.\n",
        "\n",
        "This untrained model gives probabilities close to random (1/10 for each class), so the initial loss should be close to `-tf.math.log(1/10) ~= 2.3`."
      ]
    },
    {
      "cell_type": "code",
      "execution_count": null,
      "metadata": {
        "id": "NJWqEVrrJ7ZB",
        "colab": {
          "base_uri": "https://localhost:8080/"
        },
        "outputId": "d7d0bb88-3bff-45e0-b5d0-49025b4f3319"
      },
      "outputs": [
        {
          "output_type": "execute_result",
          "data": {
            "text/plain": [
              "1.4064115"
            ]
          },
          "metadata": {},
          "execution_count": 19
        }
      ],
      "source": [
        "loss_fn(y_train[:1], predictions).numpy()"
      ]
    },
    {
      "cell_type": "markdown",
      "metadata": {
        "id": "ada44eb947d4"
      },
      "source": [
        "Before you start training, configure and compile the model using Keras `Model.compile`. Set the [`optimizer`](https://www.tensorflow.org/api_docs/python/tf/keras/optimizers) class to `adam`, set the `loss` to the `loss_fn` function you defined earlier, and specify a metric to be evaluated for the model by setting the `metrics` parameter to `accuracy`."
      ]
    },
    {
      "cell_type": "code",
      "execution_count": null,
      "metadata": {
        "id": "9foNKHzTD2Vo"
      },
      "outputs": [],
      "source": [
        "model.compile(optimizer='adam',\n",
        "              loss=loss_fn,\n",
        "              metrics=['accuracy'])"
      ]
    },
    {
      "cell_type": "markdown",
      "metadata": {
        "id": "ix4mEL65on-w"
      },
      "source": [
        "## Train and evaluate your model\n",
        "\n",
        "Use the `Model.fit` method to adjust your model parameters and minimize the loss:"
      ]
    },
    {
      "cell_type": "code",
      "execution_count": null,
      "metadata": {
        "id": "y7suUbJXVLqP",
        "colab": {
          "base_uri": "https://localhost:8080/"
        },
        "outputId": "b70663a0-4588-4c57-c5c6-f71102c56567"
      },
      "outputs": [
        {
          "output_type": "stream",
          "name": "stdout",
          "text": [
            "Epoch 1/5\n",
            "1875/1875 [==============================] - 6s 3ms/step - loss: 0.2909 - accuracy: 0.9156\n",
            "Epoch 2/5\n",
            "1875/1875 [==============================] - 6s 3ms/step - loss: 0.1373 - accuracy: 0.9600\n",
            "Epoch 3/5\n",
            "1875/1875 [==============================] - 6s 3ms/step - loss: 0.1027 - accuracy: 0.9688\n",
            "Epoch 4/5\n",
            "1875/1875 [==============================] - 6s 3ms/step - loss: 0.0854 - accuracy: 0.9739\n",
            "Epoch 5/5\n",
            "1875/1875 [==============================] - 6s 3ms/step - loss: 0.0717 - accuracy: 0.9772\n"
          ]
        },
        {
          "output_type": "execute_result",
          "data": {
            "text/plain": [
              "<keras.callbacks.History at 0x7fa3251dce50>"
            ]
          },
          "metadata": {},
          "execution_count": 21
        }
      ],
      "source": [
        "model.fit(x_train, y_train, epochs=5)"
      ]
    },
    {
      "cell_type": "markdown",
      "metadata": {
        "id": "4mDAAPFqVVgn"
      },
      "source": [
        "The `Model.evaluate` method checks the models performance, usually on a \"[Validation-set](https://developers.google.com/machine-learning/glossary#validation-set)\" or \"[Test-set](https://developers.google.com/machine-learning/glossary#test-set)\"."
      ]
    },
    {
      "cell_type": "code",
      "execution_count": null,
      "metadata": {
        "id": "F7dTAzgHDUh7",
        "colab": {
          "base_uri": "https://localhost:8080/"
        },
        "outputId": "a940c8b5-f2dd-46e4-d6e3-ee24f1d8a36c"
      },
      "outputs": [
        {
          "output_type": "stream",
          "name": "stdout",
          "text": [
            "313/313 - 1s - loss: 0.0745 - accuracy: 0.9780 - 577ms/epoch - 2ms/step\n"
          ]
        },
        {
          "output_type": "execute_result",
          "data": {
            "text/plain": [
              "[0.07446999847888947, 0.9779999852180481]"
            ]
          },
          "metadata": {},
          "execution_count": 22
        }
      ],
      "source": [
        "model.evaluate(x_test,  y_test, verbose=2)"
      ]
    },
    {
      "cell_type": "markdown",
      "metadata": {
        "id": "T4JfEh7kvx6m"
      },
      "source": [
        "The image classifier is now trained to ~98% accuracy on this dataset. To learn more, read the [TensorFlow tutorials](https://www.tensorflow.org/tutorials/)."
      ]
    },
    {
      "cell_type": "markdown",
      "metadata": {
        "id": "Aj8NrlzlJqDG"
      },
      "source": [
        "If you want your model to return a probability, you can wrap the trained model, and attach the softmax to it:"
      ]
    },
    {
      "cell_type": "code",
      "execution_count": null,
      "metadata": {
        "id": "rYb6DrEH0GMv"
      },
      "outputs": [],
      "source": [
        "probability_model = tf.keras.Sequential([\n",
        "  model,\n",
        "  tf.keras.layers.Softmax()\n",
        "])"
      ]
    },
    {
      "cell_type": "code",
      "execution_count": null,
      "metadata": {
        "id": "cnqOZtUp1YR_",
        "colab": {
          "base_uri": "https://localhost:8080/"
        },
        "outputId": "1a6aa8ac-0c4d-43fb-faca-f4a7441a2736"
      },
      "outputs": [
        {
          "output_type": "execute_result",
          "data": {
            "text/plain": [
              "<tf.Tensor: shape=(5, 10), dtype=float32, numpy=\n",
              "array([[2.48997036e-08, 2.56449653e-08, 1.78168364e-06, 6.48483365e-06,\n",
              "        7.70344032e-12, 1.88325675e-08, 3.64557213e-12, 9.99989986e-01,\n",
              "        3.72552648e-07, 1.45681770e-06],\n",
              "       [1.73849543e-07, 1.04438936e-04, 9.99894381e-01, 8.47589774e-07,\n",
              "        8.70311216e-18, 1.19621063e-07, 1.14045498e-07, 3.07103378e-15,\n",
              "        7.51335527e-09, 3.75649422e-14],\n",
              "       [1.34470349e-06, 9.99006450e-01, 1.37658586e-04, 7.24233541e-06,\n",
              "        4.10906177e-05, 3.13681085e-05, 6.11862561e-05, 6.57299359e-04,\n",
              "        5.48781900e-05, 1.59907245e-06],\n",
              "       [9.99809802e-01, 1.23450916e-10, 8.14087034e-05, 1.89384153e-08,\n",
              "        3.10834594e-06, 1.05911988e-06, 9.30924944e-05, 1.13771575e-05,\n",
              "        2.36483100e-08, 4.11857286e-08],\n",
              "       [1.95905136e-06, 3.65665748e-10, 1.75986622e-06, 6.43656461e-09,\n",
              "        9.98768628e-01, 2.66585722e-08, 2.18043042e-05, 1.32077432e-04,\n",
              "        1.39968307e-07, 1.07354496e-03]], dtype=float32)>"
            ]
          },
          "metadata": {},
          "execution_count": 24
        }
      ],
      "source": [
        "probability_model(x_test[:5])"
      ]
    }
  ],
  "metadata": {
    "colab": {
      "provenance": []
    },
    "kernelspec": {
      "display_name": "Python 3",
      "name": "python3"
    }
  },
  "nbformat": 4,
  "nbformat_minor": 0
}